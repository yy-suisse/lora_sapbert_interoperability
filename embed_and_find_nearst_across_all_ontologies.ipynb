{
 "cells": [
  {
   "cell_type": "markdown",
   "id": "0169d72f",
   "metadata": {},
   "source": [
    "# 0. import"
   ]
  },
  {
   "cell_type": "code",
   "execution_count": 1,
   "id": "98c132e5",
   "metadata": {},
   "outputs": [],
   "source": [
    "import polars as pl\n",
    "import torch\n",
    "import numpy as np\n",
    "import yaml\n",
    "from tqdm import tqdm\n",
    "import torch.nn.functional as F\n",
    "\n",
    "from utils.model_utils import load_checkpoint,get_embeddings, encode\n",
    "from model import LoraSapbert\n",
    "\n",
    "\n",
    "with open(\"configs.yaml\", \"r\") as f:\n",
    "    CONFIG = yaml.safe_load(f)\n",
    "\n",
    "device = \"cuda\" if torch.cuda.is_available() else \"cpu\"\n"
   ]
  },
  {
   "cell_type": "markdown",
   "id": "31055e9f",
   "metadata": {},
   "source": [
    "# 1. load lora-SapBERT checkpoint for embeddings"
   ]
  },
  {
   "cell_type": "code",
   "execution_count": 2,
   "id": "0227738e",
   "metadata": {},
   "outputs": [
    {
     "name": "stdout",
     "output_type": "stream",
     "text": [
      "trainable params: 442,368 || all params: 109,924,608 || trainable%: 0.4024\n"
     ]
    },
    {
     "data": {
      "text/plain": [
       "LoraSapbert(\n",
       "  (model): PeftModelForFeatureExtraction(\n",
       "    (base_model): LoraModel(\n",
       "      (model): BertModel(\n",
       "        (embeddings): BertEmbeddings(\n",
       "          (word_embeddings): Embedding(30522, 768, padding_idx=0)\n",
       "          (position_embeddings): Embedding(512, 768)\n",
       "          (token_type_embeddings): Embedding(2, 768)\n",
       "          (LayerNorm): LayerNorm((768,), eps=1e-12, elementwise_affine=True)\n",
       "          (dropout): Dropout(p=0.1, inplace=False)\n",
       "        )\n",
       "        (encoder): BertEncoder(\n",
       "          (layer): ModuleList(\n",
       "            (0-11): 12 x BertLayer(\n",
       "              (attention): BertAttention(\n",
       "                (self): BertSdpaSelfAttention(\n",
       "                  (query): lora.Linear(\n",
       "                    (base_layer): Linear(in_features=768, out_features=768, bias=True)\n",
       "                    (lora_dropout): ModuleDict(\n",
       "                      (default): Dropout(p=0.1, inplace=False)\n",
       "                    )\n",
       "                    (lora_A): ModuleDict(\n",
       "                      (default): Linear(in_features=768, out_features=8, bias=False)\n",
       "                    )\n",
       "                    (lora_B): ModuleDict(\n",
       "                      (default): Linear(in_features=8, out_features=768, bias=False)\n",
       "                    )\n",
       "                    (lora_embedding_A): ParameterDict()\n",
       "                    (lora_embedding_B): ParameterDict()\n",
       "                    (lora_magnitude_vector): ModuleDict()\n",
       "                  )\n",
       "                  (key): lora.Linear(\n",
       "                    (base_layer): Linear(in_features=768, out_features=768, bias=True)\n",
       "                    (lora_dropout): ModuleDict(\n",
       "                      (default): Dropout(p=0.1, inplace=False)\n",
       "                    )\n",
       "                    (lora_A): ModuleDict(\n",
       "                      (default): Linear(in_features=768, out_features=8, bias=False)\n",
       "                    )\n",
       "                    (lora_B): ModuleDict(\n",
       "                      (default): Linear(in_features=8, out_features=768, bias=False)\n",
       "                    )\n",
       "                    (lora_embedding_A): ParameterDict()\n",
       "                    (lora_embedding_B): ParameterDict()\n",
       "                    (lora_magnitude_vector): ModuleDict()\n",
       "                  )\n",
       "                  (value): lora.Linear(\n",
       "                    (base_layer): Linear(in_features=768, out_features=768, bias=True)\n",
       "                    (lora_dropout): ModuleDict(\n",
       "                      (default): Dropout(p=0.1, inplace=False)\n",
       "                    )\n",
       "                    (lora_A): ModuleDict(\n",
       "                      (default): Linear(in_features=768, out_features=8, bias=False)\n",
       "                    )\n",
       "                    (lora_B): ModuleDict(\n",
       "                      (default): Linear(in_features=8, out_features=768, bias=False)\n",
       "                    )\n",
       "                    (lora_embedding_A): ParameterDict()\n",
       "                    (lora_embedding_B): ParameterDict()\n",
       "                    (lora_magnitude_vector): ModuleDict()\n",
       "                  )\n",
       "                  (dropout): Dropout(p=0.1, inplace=False)\n",
       "                )\n",
       "                (output): BertSelfOutput(\n",
       "                  (dense): Linear(in_features=768, out_features=768, bias=True)\n",
       "                  (LayerNorm): LayerNorm((768,), eps=1e-12, elementwise_affine=True)\n",
       "                  (dropout): Dropout(p=0.1, inplace=False)\n",
       "                )\n",
       "              )\n",
       "              (intermediate): BertIntermediate(\n",
       "                (dense): Linear(in_features=768, out_features=3072, bias=True)\n",
       "                (intermediate_act_fn): GELUActivation()\n",
       "              )\n",
       "              (output): BertOutput(\n",
       "                (dense): Linear(in_features=3072, out_features=768, bias=True)\n",
       "                (LayerNorm): LayerNorm((768,), eps=1e-12, elementwise_affine=True)\n",
       "                (dropout): Dropout(p=0.1, inplace=False)\n",
       "              )\n",
       "            )\n",
       "          )\n",
       "        )\n",
       "        (pooler): BertPooler(\n",
       "          (dense): Linear(in_features=768, out_features=768, bias=True)\n",
       "          (activation): Tanh()\n",
       "        )\n",
       "      )\n",
       "    )\n",
       "  )\n",
       ")"
      ]
     },
     "execution_count": 2,
     "metadata": {},
     "output_type": "execute_result"
    }
   ],
   "source": [
    "model_emb_ft = LoraSapbert(**CONFIG[\"SAPBERT_PARAMETERS\"]).to(device)\n",
    "_ = load_checkpoint(model_emb_ft, CONFIG[\"EMBEDDINGS_SAVE_PATH\"][\"ft_model\"], device=\"cuda\", strict=False)\n",
    "model_emb_ft.eval()\n"
   ]
  },
  {
   "cell_type": "markdown",
   "id": "40ff7969",
   "metadata": {},
   "source": [
    "# 2. get dataframes: concepts labels to embed, and mapped concepts if needed (not indexed)"
   ]
  },
  {
   "cell_type": "code",
   "execution_count": 26,
   "id": "373b82d9",
   "metadata": {},
   "outputs": [],
   "source": [
    "df_ulms = pl.read_parquet(CONFIG[\"EMBEDDINGS_SAVE_PATH\"][\"all_ulms\"])\n",
    "df_hug_snomed = pl.read_parquet(CONFIG[\"EMBEDDINGS_SAVE_PATH\"][\"graph_hug_concepts\"])\n",
    "df_mapped = pl.read_parquet(CONFIG[\"CONCEPT_DATA\"][\"mapped_concepts\"]).drop(\"pointer\").unique()\n",
    "df_mapped = df_hug_snomed.join(df_mapped, on = \"id\")\n"
   ]
  },
  {
   "cell_type": "markdown",
   "id": "299d403b",
   "metadata": {},
   "source": [
    "# 3. (already computed, no need to run) get embeddings (the idx in dataframe = the row position in the resulting tensor)"
   ]
  },
  {
   "cell_type": "code",
   "execution_count": null,
   "id": "d5e92d9e",
   "metadata": {},
   "outputs": [],
   "source": [
    "emb_label_snomed_ft = get_embeddings(model_emb_ft, df_hug_snomed, \"label\")\n",
    "emb_expression_snomed_ft = get_embeddings(model_emb_ft, df_hug_snomed, \"expression\")\n",
    "# Save fine-tuned embeddings\n",
    "torch.save({\n",
    "    'emb_exp': emb_expression_snomed_ft,\n",
    "    'emb_concepts': emb_label_snomed_ft,\n",
    "}, CONFIG[\"EMBEDDINGS_SAVE_PATH\"][\"snomed_embedding\"])\n",
    "\n",
    "\n",
    "emb_label_ft_ulms = get_embeddings(model_emb_ft, df_ulms, \"STR\")\n",
    "torch.save({\n",
    "    'emb_ulms_label': emb_label_ft_ulms,\n",
    "}, CONFIG[\"EMBEDDINGS_SAVE_PATH\"][\"ulms_embedding\"])\n",
    "\n"
   ]
  },
  {
   "cell_type": "markdown",
   "id": "5f339616",
   "metadata": {},
   "source": [
    "# 4. load all existing embeddings"
   ]
  },
  {
   "cell_type": "code",
   "execution_count": 4,
   "id": "58e78f34",
   "metadata": {},
   "outputs": [],
   "source": [
    "# get all embeddings of hug-snomed\n",
    "ft_data = torch.load(CONFIG[\"EMBEDDINGS_SAVE_PATH\"][\"snomed_embedding\"])\n",
    "# emb_expr_ft = ft_data['emb_exp'].to(\"cuda\", dtype=torch.float16)\n",
    "emb_label_ft = ft_data['emb_concepts'].to(\"cuda\", dtype=torch.float16)\n",
    "\n",
    "# get all embeddings of ulms\n",
    "emb_ulms_label_ft = torch.load(CONFIG[\"EMBEDDINGS_SAVE_PATH\"][\"ulms_embedding\"])['emb_ulms_label']\n"
   ]
  },
  {
   "cell_type": "code",
   "execution_count": 5,
   "id": "adef3b00",
   "metadata": {},
   "outputs": [
    {
     "data": {
      "text/plain": [
       "(torch.Size([2259432, 768]), torch.Size([394508, 768]))"
      ]
     },
     "execution_count": 5,
     "metadata": {},
     "output_type": "execute_result"
    }
   ],
   "source": [
    "emb_ulms_label_ft.shape, emb_label_ft.shape #,emb_expr_ft.shape"
   ]
  },
  {
   "cell_type": "markdown",
   "id": "2b634052",
   "metadata": {},
   "source": [
    "# compute the cosine similarity\n",
    "Example of free text and all ulms concepts, find the closest standarized concept for each free text"
   ]
  },
  {
   "cell_type": "code",
   "execution_count": 8,
   "id": "30aa4012",
   "metadata": {},
   "outputs": [],
   "source": [
    "def find_closest_concept(emb_query, emb_candidate, df_query, df_candidate, col_label_query, col_label_candidate):\n",
    "    K = 1\n",
    "    batch_size = 1024\n",
    "    chunk_size = 200_000\n",
    "    device = \"cuda\"\n",
    "    use_half = False\n",
    "\n",
    "    torch.backends.cuda.matmul.allow_tf32=False\n",
    "    torch.set_grad_enabled(False)\n",
    "\n",
    "    dtype = torch.float16 if use_half else torch.float32\n",
    "    P, D = emb_query.shape\n",
    "    M    = emb_candidate.shape[0]\n",
    "\n",
    "    # normalize for better cosine computation\n",
    "    emb_query = F.normalize(emb_query, dim = -1)\n",
    "    emb_candidate = F.normalize(emb_candidate, dim = -1) # need to put it in gpu only when it's necessary\n",
    "    all_rows = []\n",
    "\n",
    "    for s in tqdm(range(0, P, batch_size)):\n",
    "        e = min(s + batch_size, P)\n",
    "        B = e - s\n",
    "        # print(f\"[{s}:{e}] / {P}\")\n",
    "\n",
    "        # move query batch\n",
    "        Q = emb_query[s:e].to(device=device, dtype=dtype, non_blocking=True).contiguous()  # [B, D]\n",
    "\n",
    "        # best-K placeholders\n",
    "        best_vals = torch.full((B, K), -1e9, device=device, dtype=torch.float32)\n",
    "        best_pos  = torch.full((B, K),  -1, device=device, dtype=torch.long)\n",
    "\n",
    "        # scan through UMLS in tiles\n",
    "        start = 0\n",
    "        while start < M:\n",
    "            end = min(start + chunk_size, M)\n",
    "\n",
    "            Ublk = emb_candidate[start:end].to(device=device, dtype=dtype, non_blocking=True).contiguous()  # [C, D]\n",
    "            sims = Q @ Ublk.transpose(0,1).contiguous()                                                # [B, C]\n",
    "\n",
    "            cK = min(K, sims.size(1))\n",
    "            cand_vals, cand_pos = torch.topk(sims, k=cK, dim=1, largest=True, sorted=False)            # [B, cK]\n",
    "            cand_pos += start\n",
    "\n",
    "            # merge with running best\n",
    "            merged_vals = torch.cat([best_vals, cand_vals.float()], dim=1)                             # [B, K+cK]\n",
    "            merged_pos  = torch.cat([best_pos,  cand_pos], dim=1)                                      # [B, K+cK]\n",
    "            best_vals, idx = torch.topk(merged_vals, k=K, dim=1, largest=True, sorted=True)\n",
    "            best_pos = torch.gather(merged_pos, 1, idx)\n",
    "\n",
    "            start = end\n",
    "        \n",
    "        # collect rows for this batch\n",
    "        best_vals_cpu = best_vals.float().cpu()\n",
    "        best_pos_cpu  = best_pos.long().cpu()\n",
    "\n",
    "        for i in range(B):\n",
    "            for k in range(K):\n",
    "                query_idx = df_query[s + i][\"idx\"][0]\n",
    "                all_rows.append({\n",
    "                    # \"query_idx\": query_idx,\n",
    "                    \"query_label\" : df_query.filter(pl.col(\"idx\") == query_idx)[col_label_query][0],\n",
    "                    \"candidate_idx\": int(best_pos_cpu[i, k]),\n",
    "                    \"candidate_label\" : df_candidate[int(best_pos_cpu[i, k])][col_label_candidate][0],\n",
    "                    \"candidate_coding_system\": df_candidate[int(best_pos_cpu[i, k])][\"SAB\"][0],\n",
    "                    \"similarity\": float(best_vals_cpu[i, k])\n",
    "                })\n",
    "\n",
    "    # build dataframe\n",
    "    df_results = pl.DataFrame(all_rows)\n",
    "    return df_results\n"
   ]
  },
  {
   "cell_type": "markdown",
   "id": "cd69493d",
   "metadata": {},
   "source": [
    "## example of free text - ULMS"
   ]
  },
  {
   "cell_type": "code",
   "execution_count": 43,
   "id": "beaa7af7",
   "metadata": {},
   "outputs": [
    {
     "data": {
      "application/vnd.jupyter.widget-view+json": {
       "model_id": "7f028583829946138b9f9ad6ca637841",
       "version_major": 2,
       "version_minor": 0
      },
      "text/plain": [
       "Encoding:   0%|          | 0/1 [00:00<?, ?it/s]"
      ]
     },
     "metadata": {},
     "output_type": "display_data"
    },
    {
     "name": "stderr",
     "output_type": "stream",
     "text": [
      "100%|██████████| 1/1 [00:02<00:00,  2.45s/it]\n"
     ]
    },
    {
     "data": {
      "text/html": [
       "<div><style>\n",
       ".dataframe > thead > tr,\n",
       ".dataframe > tbody > tr {\n",
       "  text-align: right;\n",
       "  white-space: pre-wrap;\n",
       "}\n",
       "</style>\n",
       "<small>shape: (2, 5)</small><table border=\"1\" class=\"dataframe\"><thead><tr><th>query_label</th><th>candidate_idx</th><th>candidate_label</th><th>candidate_coding_system</th><th>similarity</th></tr><tr><td>str</td><td>i64</td><td>str</td><td>str</td><td>f64</td></tr></thead><tbody><tr><td>&quot;dental implant&quot;</td><td>1482362</td><td>&quot;Prosthetic dental implant&quot;</td><td>&quot;ICD9CM&quot;</td><td>0.958077</td></tr><tr><td>&quot;father not a smoker&quot;</td><td>1365236</td><td>&quot;Father does not smoke&quot;</td><td>&quot;SNOMEDCT_US&quot;</td><td>0.953439</td></tr></tbody></table></div>"
      ],
      "text/plain": [
       "shape: (2, 5)\n",
       "┌─────────────────────┬───────────────┬───────────────────────┬───────────────────────┬────────────┐\n",
       "│ query_label         ┆ candidate_idx ┆ candidate_label       ┆ candidate_coding_syst ┆ similarity │\n",
       "│ ---                 ┆ ---           ┆ ---                   ┆ em                    ┆ ---        │\n",
       "│ str                 ┆ i64           ┆ str                   ┆ ---                   ┆ f64        │\n",
       "│                     ┆               ┆                       ┆ str                   ┆            │\n",
       "╞═════════════════════╪═══════════════╪═══════════════════════╪═══════════════════════╪════════════╡\n",
       "│ dental implant      ┆ 1482362       ┆ Prosthetic dental     ┆ ICD9CM                ┆ 0.958077   │\n",
       "│                     ┆               ┆ implant               ┆                       ┆            │\n",
       "│ father not a smoker ┆ 1365236       ┆ Father does not smoke ┆ SNOMEDCT_US           ┆ 0.953439   │\n",
       "└─────────────────────┴───────────────┴───────────────────────┴───────────────────────┴────────────┘"
      ]
     },
     "execution_count": 43,
     "metadata": {},
     "output_type": "execute_result"
    }
   ],
   "source": [
    "# need to build a dataframe first for freetext\n",
    "texts = [\"dental implant\", \"father not a smoker\"]\n",
    "emb_free_text_ft = encode(model_emb_ft, texts)\n",
    "df_freetext = pl.DataFrame({\"label\": texts})\n",
    "df_freetext.insert_column(0, pl.Series(range(len(df_freetext))).alias(\"idx\"))\n",
    "\n",
    "# compute similarity\n",
    "df_result = find_closest_concept(emb_free_text_ft, emb_ulms_label_ft, df_freetext, df_ulms, \"label\", \"STR\")\n",
    "df_result\n"
   ]
  },
  {
   "cell_type": "markdown",
   "id": "b198f564",
   "metadata": {},
   "source": [
    "## example of SNOMED - ULMS"
   ]
  },
  {
   "cell_type": "code",
   "execution_count": 42,
   "id": "1fda7873",
   "metadata": {},
   "outputs": [
    {
     "name": "stderr",
     "output_type": "stream",
     "text": [
      "100%|██████████| 1/1 [00:02<00:00,  2.56s/it]\n"
     ]
    },
    {
     "data": {
      "text/html": [
       "<div><style>\n",
       ".dataframe > thead > tr,\n",
       ".dataframe > tbody > tr {\n",
       "  text-align: right;\n",
       "  white-space: pre-wrap;\n",
       "}\n",
       "</style>\n",
       "<small>shape: (5, 5)</small><table border=\"1\" class=\"dataframe\"><thead><tr><th>query_label</th><th>candidate_idx</th><th>candidate_label</th><th>candidate_coding_system</th><th>similarity</th></tr><tr><td>str</td><td>i64</td><td>str</td><td>str</td><td>f64</td></tr></thead><tbody><tr><td>&quot;Laser beam guide (physical obj…</td><td>1676926</td><td>&quot;Laser beam guide (physical obj…</td><td>&quot;SNOMEDCT_US&quot;</td><td>0.99996</td></tr><tr><td>&quot;|Anaerobic microbial culture (…</td><td>1652062</td><td>&quot;Prevotella nigrescens or Prevo…</td><td>&quot;SNOMEDCT_US&quot;</td><td>0.720952</td></tr><tr><td>&quot;Footwear feature (observable e…</td><td>855088</td><td>&quot;Footwear feature (observable e…</td><td>&quot;SNOMEDCT_US&quot;</td><td>0.999913</td></tr><tr><td>&quot;Open reduction of closed humer…</td><td>108893</td><td>&quot;Open reduction of closed humer…</td><td>&quot;SNOMEDCT_US&quot;</td><td>1.000063</td></tr><tr><td>&quot;Murine sarcoma virus (organism…</td><td>34889</td><td>&quot;Murine sarcoma virus (organism…</td><td>&quot;SNOMEDCT_US&quot;</td><td>1.00009</td></tr></tbody></table></div>"
      ],
      "text/plain": [
       "shape: (5, 5)\n",
       "┌───────────────────────┬───────────────┬──────────────────────┬──────────────────────┬────────────┐\n",
       "│ query_label           ┆ candidate_idx ┆ candidate_label      ┆ candidate_coding_sys ┆ similarity │\n",
       "│ ---                   ┆ ---           ┆ ---                  ┆ tem                  ┆ ---        │\n",
       "│ str                   ┆ i64           ┆ str                  ┆ ---                  ┆ f64        │\n",
       "│                       ┆               ┆                      ┆ str                  ┆            │\n",
       "╞═══════════════════════╪═══════════════╪══════════════════════╪══════════════════════╪════════════╡\n",
       "│ Laser beam guide      ┆ 1676926       ┆ Laser beam guide     ┆ SNOMEDCT_US          ┆ 0.99996    │\n",
       "│ (physical obj…        ┆               ┆ (physical obj…       ┆                      ┆            │\n",
       "│ |Anaerobic microbial  ┆ 1652062       ┆ Prevotella           ┆ SNOMEDCT_US          ┆ 0.720952   │\n",
       "│ culture (…            ┆               ┆ nigrescens or Prevo… ┆                      ┆            │\n",
       "│ Footwear feature      ┆ 855088        ┆ Footwear feature     ┆ SNOMEDCT_US          ┆ 0.999913   │\n",
       "│ (observable e…        ┆               ┆ (observable e…       ┆                      ┆            │\n",
       "│ Open reduction of     ┆ 108893        ┆ Open reduction of    ┆ SNOMEDCT_US          ┆ 1.000063   │\n",
       "│ closed humer…         ┆               ┆ closed humer…        ┆                      ┆            │\n",
       "│ Murine sarcoma virus  ┆ 34889         ┆ Murine sarcoma virus ┆ SNOMEDCT_US          ┆ 1.00009    │\n",
       "│ (organism…            ┆               ┆ (organism…           ┆                      ┆            │\n",
       "└───────────────────────┴───────────────┴──────────────────────┴──────────────────────┴────────────┘"
      ]
     },
     "execution_count": 42,
     "metadata": {},
     "output_type": "execute_result"
    }
   ],
   "source": [
    "df_result = find_closest_concept(emb_label_ft[:5], emb_ulms_label_ft, df_hug_snomed[:5], df_ulms, \"label\", \"STR\")\n",
    "df_result"
   ]
  },
  {
   "cell_type": "markdown",
   "id": "a2fc0425",
   "metadata": {},
   "source": [
    "# example post - umls"
   ]
  },
  {
   "cell_type": "code",
   "execution_count": 41,
   "id": "3c4af2e6",
   "metadata": {},
   "outputs": [
    {
     "name": "stderr",
     "output_type": "stream",
     "text": [
      "100%|██████████| 1/1 [00:02<00:00,  2.53s/it]\n"
     ]
    },
    {
     "data": {
      "text/html": [
       "<div><style>\n",
       ".dataframe > thead > tr,\n",
       ".dataframe > tbody > tr {\n",
       "  text-align: right;\n",
       "  white-space: pre-wrap;\n",
       "}\n",
       "</style>\n",
       "<small>shape: (5, 5)</small><table border=\"1\" class=\"dataframe\"><thead><tr><th>query_label</th><th>candidate_idx</th><th>candidate_label</th><th>candidate_coding_system</th><th>similarity</th></tr><tr><td>str</td><td>i64</td><td>str</td><td>str</td><td>f64</td></tr></thead><tbody><tr><td>&quot;|Amitriptyline measurement (pr…</td><td>1062757</td><td>&quot;Amitriptyline:Substance Concen…</td><td>&quot;LNC&quot;</td><td>0.848368</td></tr><tr><td>&quot;|Aerobic microbial culture (pr…</td><td>1604598</td><td>&quot;Swab from nasal sinus&quot;</td><td>&quot;SNOMEDCT_US&quot;</td><td>0.691654</td></tr><tr><td>&quot;|Mycobacteria culture (procedu…</td><td>136616</td><td>&quot;Mycobacteria culture&quot;</td><td>&quot;SNOMEDCT_US&quot;</td><td>0.783549</td></tr><tr><td>&quot;|Interleukin-2 assay (procedur…</td><td>138181</td><td>&quot;Interleukin-2 assay (procedure…</td><td>&quot;SNOMEDCT_US&quot;</td><td>0.933659</td></tr><tr><td>&quot;|Aerobic microbial culture (pr…</td><td>246079</td><td>&quot;Klebsiella oxytoca&quot;</td><td>&quot;SNOMEDCT_US&quot;</td><td>0.714688</td></tr></tbody></table></div>"
      ],
      "text/plain": [
       "shape: (5, 5)\n",
       "┌───────────────────────┬───────────────┬──────────────────────┬──────────────────────┬────────────┐\n",
       "│ query_label           ┆ candidate_idx ┆ candidate_label      ┆ candidate_coding_sys ┆ similarity │\n",
       "│ ---                   ┆ ---           ┆ ---                  ┆ tem                  ┆ ---        │\n",
       "│ str                   ┆ i64           ┆ str                  ┆ ---                  ┆ f64        │\n",
       "│                       ┆               ┆                      ┆ str                  ┆            │\n",
       "╞═══════════════════════╪═══════════════╪══════════════════════╪══════════════════════╪════════════╡\n",
       "│ |Amitriptyline        ┆ 1062757       ┆ Amitriptyline:Substa ┆ LNC                  ┆ 0.848368   │\n",
       "│ measurement (pr…      ┆               ┆ nce Concen…          ┆                      ┆            │\n",
       "│ |Aerobic microbial    ┆ 1604598       ┆ Swab from nasal      ┆ SNOMEDCT_US          ┆ 0.691654   │\n",
       "│ culture (pr…          ┆               ┆ sinus                ┆                      ┆            │\n",
       "│ |Mycobacteria culture ┆ 136616        ┆ Mycobacteria culture ┆ SNOMEDCT_US          ┆ 0.783549   │\n",
       "│ (procedu…             ┆               ┆                      ┆                      ┆            │\n",
       "│ |Interleukin-2 assay  ┆ 138181        ┆ Interleukin-2 assay  ┆ SNOMEDCT_US          ┆ 0.933659   │\n",
       "│ (procedur…            ┆               ┆ (procedure…          ┆                      ┆            │\n",
       "│ |Aerobic microbial    ┆ 246079        ┆ Klebsiella oxytoca   ┆ SNOMEDCT_US          ┆ 0.714688   │\n",
       "│ culture (pr…          ┆               ┆                      ┆                      ┆            │\n",
       "└───────────────────────┴───────────────┴──────────────────────┴──────────────────────┴────────────┘"
      ]
     },
     "execution_count": 41,
     "metadata": {},
     "output_type": "execute_result"
    }
   ],
   "source": [
    "# isolate post firstly\n",
    "df_hug_snomed_post = df_hug_snomed.filter(pl.col(\"concept_type\") == \"SCT_POST\")\n",
    "idx_post = df_hug_snomed_post['idx'].to_list()\n",
    "emb_label_ft_post = emb_label_ft[idx_post].clone().detach()\n",
    "\n",
    "df_result = find_closest_concept(emb_label_ft_post[10:15], emb_ulms_label_ft, df_hug_snomed_post[10:15], df_ulms, \"label\", \"STR\")\n",
    "df_result"
   ]
  },
  {
   "cell_type": "markdown",
   "id": "60af784a",
   "metadata": {},
   "source": [
    "# similarity mapped concepts and all UMLS"
   ]
  },
  {
   "cell_type": "code",
   "execution_count": 27,
   "id": "ab8f9080",
   "metadata": {},
   "outputs": [
    {
     "name": "stderr",
     "output_type": "stream",
     "text": [
      "100%|██████████| 1/1 [00:02<00:00,  2.46s/it]\n"
     ]
    },
    {
     "data": {
      "text/html": [
       "<div><style>\n",
       ".dataframe > thead > tr,\n",
       ".dataframe > tbody > tr {\n",
       "  text-align: right;\n",
       "  white-space: pre-wrap;\n",
       "}\n",
       "</style>\n",
       "<small>shape: (5, 5)</small><table border=\"1\" class=\"dataframe\"><thead><tr><th>query_label</th><th>candidate_idx</th><th>candidate_label</th><th>candidate_coding_system</th><th>similarity</th></tr><tr><td>str</td><td>i64</td><td>str</td><td>str</td><td>f64</td></tr></thead><tbody><tr><td>&quot;Nutritional marasmus (disorder…</td><td>73889</td><td>&quot;Nutritional marasmus (disorder…</td><td>&quot;SNOMEDCT_US&quot;</td><td>1.000014</td></tr><tr><td>&quot;|Aerobic microbial culture (pr…</td><td>1604535</td><td>&quot;Swab from peritoneal cavity st…</td><td>&quot;SNOMEDCT_US&quot;</td><td>0.669004</td></tr><tr><td>&quot;|Aerobic microbial culture (pr…</td><td>874012</td><td>&quot;Streptococcus agalactiae cultu…</td><td>&quot;SNOMEDCT_US&quot;</td><td>0.741366</td></tr><tr><td>&quot;|Polymerase chain reaction ana…</td><td>2172044</td><td>&quot;Carbapenemase enzyme panel&quot;</td><td>&quot;LNC&quot;</td><td>0.723215</td></tr><tr><td>&quot;|Polymerase chain reaction ana…</td><td>1877686</td><td>&quot;Norovirus genogroups I &amp; II ri…</td><td>&quot;LNC&quot;</td><td>0.711229</td></tr></tbody></table></div>"
      ],
      "text/plain": [
       "shape: (5, 5)\n",
       "┌───────────────────────┬───────────────┬──────────────────────┬──────────────────────┬────────────┐\n",
       "│ query_label           ┆ candidate_idx ┆ candidate_label      ┆ candidate_coding_sys ┆ similarity │\n",
       "│ ---                   ┆ ---           ┆ ---                  ┆ tem                  ┆ ---        │\n",
       "│ str                   ┆ i64           ┆ str                  ┆ ---                  ┆ f64        │\n",
       "│                       ┆               ┆                      ┆ str                  ┆            │\n",
       "╞═══════════════════════╪═══════════════╪══════════════════════╪══════════════════════╪════════════╡\n",
       "│ Nutritional marasmus  ┆ 73889         ┆ Nutritional marasmus ┆ SNOMEDCT_US          ┆ 1.000014   │\n",
       "│ (disorder…            ┆               ┆ (disorder…           ┆                      ┆            │\n",
       "│ |Aerobic microbial    ┆ 1604535       ┆ Swab from peritoneal ┆ SNOMEDCT_US          ┆ 0.669004   │\n",
       "│ culture (pr…          ┆               ┆ cavity st…           ┆                      ┆            │\n",
       "│ |Aerobic microbial    ┆ 874012        ┆ Streptococcus        ┆ SNOMEDCT_US          ┆ 0.741366   │\n",
       "│ culture (pr…          ┆               ┆ agalactiae cultu…    ┆                      ┆            │\n",
       "│ |Polymerase chain     ┆ 2172044       ┆ Carbapenemase enzyme ┆ LNC                  ┆ 0.723215   │\n",
       "│ reaction ana…         ┆               ┆ panel                ┆                      ┆            │\n",
       "│ |Polymerase chain     ┆ 1877686       ┆ Norovirus genogroups ┆ LNC                  ┆ 0.711229   │\n",
       "│ reaction ana…         ┆               ┆ I & II ri…           ┆                      ┆            │\n",
       "└───────────────────────┴───────────────┴──────────────────────┴──────────────────────┴────────────┘"
      ]
     },
     "execution_count": 27,
     "metadata": {},
     "output_type": "execute_result"
    }
   ],
   "source": [
    "idx_mapped = df_mapped['idx'].to_list()\n",
    "emb_label_ft_mapped = emb_label_ft[idx_mapped].clone().detach()\n",
    "df_result = find_closest_concept(emb_label_ft_mapped[10:15], emb_ulms_label_ft, df_mapped[10:15], df_ulms, \"label\", \"STR\")\n",
    "df_result\n"
   ]
  },
  {
   "cell_type": "markdown",
   "id": "47d16b5e",
   "metadata": {},
   "source": [
    "# similarity mapped concepts and all ICD-9 AND 10"
   ]
  },
  {
   "cell_type": "code",
   "execution_count": 45,
   "id": "6756ef9f",
   "metadata": {},
   "outputs": [
    {
     "name": "stderr",
     "output_type": "stream",
     "text": [
      "100%|██████████| 1/1 [00:00<00:00,  1.06it/s]\n"
     ]
    },
    {
     "data": {
      "text/html": [
       "<div><style>\n",
       ".dataframe > thead > tr,\n",
       ".dataframe > tbody > tr {\n",
       "  text-align: right;\n",
       "  white-space: pre-wrap;\n",
       "}\n",
       "</style>\n",
       "<small>shape: (900, 5)</small><table border=\"1\" class=\"dataframe\"><thead><tr><th>query_label</th><th>candidate_idx</th><th>candidate_label</th><th>candidate_coding_system</th><th>similarity</th></tr><tr><td>str</td><td>i64</td><td>str</td><td>str</td><td>f64</td></tr></thead><tbody><tr><td>&quot;|Human leukocyte antigen DQB1 …</td><td>22778</td><td>&quot;Chronic viral hepatitis B with…</td><td>&quot;ICD10CM&quot;</td><td>0.424819</td></tr><tr><td>&quot;Laparoscopic repair of incisio…</td><td>32518</td><td>&quot;Laparoscopic repair of diaphra…</td><td>&quot;ICD9CM&quot;</td><td>0.796782</td></tr><tr><td>&quot;Sotalol (substance)&quot;</td><td>393536</td><td>&quot;IST&quot;</td><td>&quot;ICD10CM&quot;</td><td>0.52341</td></tr><tr><td>&quot;Surgery of cataract of bilater…</td><td>312564</td><td>&quot;Cataract secondary to ocular d…</td><td>&quot;ICD10CM&quot;</td><td>0.709546</td></tr><tr><td>&quot;Rheumatic aortic regurgitation…</td><td>7921</td><td>&quot;Rheumatic aortic insufficiency&quot;</td><td>&quot;ICD10CM&quot;</td><td>0.934957</td></tr><tr><td>&hellip;</td><td>&hellip;</td><td>&hellip;</td><td>&hellip;</td><td>&hellip;</td></tr><tr><td>&quot;|Hantavirus immunoglobulin G l…</td><td>390047</td><td>&quot;Transfusion of Hyperimmune Glo…</td><td>&quot;ICD10PCS&quot;</td><td>0.456085</td></tr><tr><td>&quot;|Tooth disorder (disorder)|+|A…</td><td>21944</td><td>&quot;Dental alveolar anomalies&quot;</td><td>&quot;ICD10CM&quot;</td><td>0.905493</td></tr><tr><td>&quot;Primitive neuroectodermal tumo…</td><td>32317</td><td>&quot;Malignant poorly differentiate…</td><td>&quot;ICD10CM&quot;</td><td>0.718497</td></tr><tr><td>&quot;|Mycology culture (procedure)|…</td><td>361070</td><td>&quot;Positive culture findings of u…</td><td>&quot;ICD10CM&quot;</td><td>0.816652</td></tr><tr><td>&quot;|Knee immobilizer (physical ob…</td><td>26828</td><td>&quot;Knock knee&quot;</td><td>&quot;ICD10CM&quot;</td><td>0.61098</td></tr></tbody></table></div>"
      ],
      "text/plain": [
       "shape: (900, 5)\n",
       "┌───────────────────────┬───────────────┬──────────────────────┬──────────────────────┬────────────┐\n",
       "│ query_label           ┆ candidate_idx ┆ candidate_label      ┆ candidate_coding_sys ┆ similarity │\n",
       "│ ---                   ┆ ---           ┆ ---                  ┆ tem                  ┆ ---        │\n",
       "│ str                   ┆ i64           ┆ str                  ┆ ---                  ┆ f64        │\n",
       "│                       ┆               ┆                      ┆ str                  ┆            │\n",
       "╞═══════════════════════╪═══════════════╪══════════════════════╪══════════════════════╪════════════╡\n",
       "│ |Human leukocyte      ┆ 22778         ┆ Chronic viral        ┆ ICD10CM              ┆ 0.424819   │\n",
       "│ antigen DQB1 …        ┆               ┆ hepatitis B with…    ┆                      ┆            │\n",
       "│ Laparoscopic repair   ┆ 32518         ┆ Laparoscopic repair  ┆ ICD9CM               ┆ 0.796782   │\n",
       "│ of incisio…           ┆               ┆ of diaphra…          ┆                      ┆            │\n",
       "│ Sotalol (substance)   ┆ 393536        ┆ IST                  ┆ ICD10CM              ┆ 0.52341    │\n",
       "│ Surgery of cataract   ┆ 312564        ┆ Cataract secondary   ┆ ICD10CM              ┆ 0.709546   │\n",
       "│ of bilater…           ┆               ┆ to ocular d…         ┆                      ┆            │\n",
       "│ Rheumatic aortic      ┆ 7921          ┆ Rheumatic aortic     ┆ ICD10CM              ┆ 0.934957   │\n",
       "│ regurgitation…        ┆               ┆ insufficiency        ┆                      ┆            │\n",
       "│ …                     ┆ …             ┆ …                    ┆ …                    ┆ …          │\n",
       "│ |Hantavirus           ┆ 390047        ┆ Transfusion of       ┆ ICD10PCS             ┆ 0.456085   │\n",
       "│ immunoglobulin G l…   ┆               ┆ Hyperimmune Glo…     ┆                      ┆            │\n",
       "│ |Tooth disorder       ┆ 21944         ┆ Dental alveolar      ┆ ICD10CM              ┆ 0.905493   │\n",
       "│ (disorder)|+|A…       ┆               ┆ anomalies            ┆                      ┆            │\n",
       "│ Primitive             ┆ 32317         ┆ Malignant poorly     ┆ ICD10CM              ┆ 0.718497   │\n",
       "│ neuroectodermal tumo… ┆               ┆ differentiate…       ┆                      ┆            │\n",
       "│ |Mycology culture     ┆ 361070        ┆ Positive culture     ┆ ICD10CM              ┆ 0.816652   │\n",
       "│ (procedure)|…         ┆               ┆ findings of u…       ┆                      ┆            │\n",
       "│ |Knee immobilizer     ┆ 26828         ┆ Knock knee           ┆ ICD10CM              ┆ 0.61098    │\n",
       "│ (physical ob…         ┆               ┆                      ┆                      ┆            │\n",
       "└───────────────────────┴───────────────┴──────────────────────┴──────────────────────┴────────────┘"
      ]
     },
     "execution_count": 45,
     "metadata": {},
     "output_type": "execute_result"
    }
   ],
   "source": [
    "idx_mapped = df_mapped['idx'].to_list()\n",
    "emb_label_ft_mapped = emb_label_ft[idx_mapped].clone().detach()\n",
    "\n",
    "df_ulms_icd = df_ulms.filter(pl.col(\"SAB\").str.contains(\"ICD\"))\n",
    "idx_icd = df_ulms_icd['idx'].to_list()\n",
    "emb_label_ft_icd = emb_ulms_label_ft[idx_icd].clone().detach()\n",
    "\n",
    "df_result = find_closest_concept(emb_label_ft_mapped[100:1000], emb_label_ft_icd, df_mapped[100:1000], df_ulms_icd, \"label\", \"STR\")\n",
    "df_result"
   ]
  },
  {
   "cell_type": "code",
   "execution_count": null,
   "id": "1a209749",
   "metadata": {},
   "outputs": [],
   "source": []
  }
 ],
 "metadata": {
  "kernelspec": {
   "display_name": "Python 3",
   "language": "python",
   "name": "python3"
  },
  "language_info": {
   "codemirror_mode": {
    "name": "ipython",
    "version": 3
   },
   "file_extension": ".py",
   "mimetype": "text/x-python",
   "name": "python",
   "nbconvert_exporter": "python",
   "pygments_lexer": "ipython3",
   "version": "3.11.1"
  }
 },
 "nbformat": 4,
 "nbformat_minor": 5
}
